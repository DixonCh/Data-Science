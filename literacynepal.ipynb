{
 "cells": [
  {
   "cell_type": "code",
   "execution_count": 19,
   "metadata": {},
   "outputs": [],
   "source": [
    "#import libraries\n",
    "import pandas as pd\n",
    "import pandasql \n",
    "import matplotlib.pyplot as plt"
   ]
  },
  {
   "cell_type": "code",
   "execution_count": 2,
   "metadata": {},
   "outputs": [],
   "source": [
    "read_csv = pd.read_csv(\"province-wise-literacy-rate-of-5-years-and-above-population-in-2011-ad.csv\")"
   ]
  },
  {
   "cell_type": "code",
   "execution_count": 3,
   "metadata": {},
   "outputs": [
    {
     "data": {
      "text/html": [
       "<div>\n",
       "<style scoped>\n",
       "    .dataframe tbody tr th:only-of-type {\n",
       "        vertical-align: middle;\n",
       "    }\n",
       "\n",
       "    .dataframe tbody tr th {\n",
       "        vertical-align: top;\n",
       "    }\n",
       "\n",
       "    .dataframe thead th {\n",
       "        text-align: right;\n",
       "    }\n",
       "</style>\n",
       "<table border=\"1\" class=\"dataframe\">\n",
       "  <thead>\n",
       "    <tr style=\"text-align: right;\">\n",
       "      <th></th>\n",
       "      <th>Province</th>\n",
       "      <th>Sex</th>\n",
       "      <th>Population Aged 5 years &amp; above</th>\n",
       "      <th>Population who are Can read &amp; write</th>\n",
       "      <th>Literacy Rate</th>\n",
       "    </tr>\n",
       "  </thead>\n",
       "  <tbody>\n",
       "    <tr>\n",
       "      <th>0</th>\n",
       "      <td>Province 1</td>\n",
       "      <td>Male</td>\n",
       "      <td>1960237</td>\n",
       "      <td>1553960</td>\n",
       "      <td>79.27</td>\n",
       "    </tr>\n",
       "    <tr>\n",
       "      <th>1</th>\n",
       "      <td>Province 1</td>\n",
       "      <td>Female</td>\n",
       "      <td>2169418</td>\n",
       "      <td>1387034</td>\n",
       "      <td>63.94</td>\n",
       "    </tr>\n",
       "    <tr>\n",
       "      <th>2</th>\n",
       "      <td>Province 1</td>\n",
       "      <td>Total</td>\n",
       "      <td>4129655</td>\n",
       "      <td>2940994</td>\n",
       "      <td>71.22</td>\n",
       "    </tr>\n",
       "    <tr>\n",
       "      <th>3</th>\n",
       "      <td>Province 2</td>\n",
       "      <td>Male</td>\n",
       "      <td>2416843</td>\n",
       "      <td>1452362</td>\n",
       "      <td>60.09</td>\n",
       "    </tr>\n",
       "    <tr>\n",
       "      <th>4</th>\n",
       "      <td>Province 2</td>\n",
       "      <td>Female</td>\n",
       "      <td>2393800</td>\n",
       "      <td>930760</td>\n",
       "      <td>38.88</td>\n",
       "    </tr>\n",
       "  </tbody>\n",
       "</table>\n",
       "</div>"
      ],
      "text/plain": [
       "     Province     Sex  Population Aged 5 years & above  \\\n",
       "0  Province 1    Male                          1960237   \n",
       "1  Province 1  Female                          2169418   \n",
       "2  Province 1   Total                          4129655   \n",
       "3  Province 2    Male                          2416843   \n",
       "4  Province 2  Female                          2393800   \n",
       "\n",
       "   Population who are Can read & write  Literacy Rate  \n",
       "0                              1553960          79.27  \n",
       "1                              1387034          63.94  \n",
       "2                              2940994          71.22  \n",
       "3                              1452362          60.09  \n",
       "4                               930760          38.88  "
      ]
     },
     "execution_count": 3,
     "metadata": {},
     "output_type": "execute_result"
    }
   ],
   "source": [
    "read_csv.head()"
   ]
  },
  {
   "cell_type": "code",
   "execution_count": 4,
   "metadata": {},
   "outputs": [],
   "source": [
    "read_csv = read_csv.rename(columns={'Literacy Rate':'Literacy_Rate'})\n",
    "read_csv = read_csv.rename(columns={'Population Aged 5 years & above':'Population_Aged_5_years_above'})\n",
    "read_csv = read_csv.rename(columns={'Population who are Can read & write':'Population_who_are_Can_read_write'})"
   ]
  },
  {
   "cell_type": "code",
   "execution_count": 5,
   "metadata": {},
   "outputs": [
    {
     "data": {
      "text/html": [
       "<div>\n",
       "<style scoped>\n",
       "    .dataframe tbody tr th:only-of-type {\n",
       "        vertical-align: middle;\n",
       "    }\n",
       "\n",
       "    .dataframe tbody tr th {\n",
       "        vertical-align: top;\n",
       "    }\n",
       "\n",
       "    .dataframe thead th {\n",
       "        text-align: right;\n",
       "    }\n",
       "</style>\n",
       "<table border=\"1\" class=\"dataframe\">\n",
       "  <thead>\n",
       "    <tr style=\"text-align: right;\">\n",
       "      <th></th>\n",
       "      <th>Province</th>\n",
       "      <th>Sex</th>\n",
       "      <th>Population_Aged_5_years_above</th>\n",
       "      <th>Population_who_are_Can_read_write</th>\n",
       "      <th>Literacy_Rate</th>\n",
       "    </tr>\n",
       "  </thead>\n",
       "  <tbody>\n",
       "    <tr>\n",
       "      <th>0</th>\n",
       "      <td>Province 1</td>\n",
       "      <td>Male</td>\n",
       "      <td>1960237</td>\n",
       "      <td>1553960</td>\n",
       "      <td>79.27</td>\n",
       "    </tr>\n",
       "    <tr>\n",
       "      <th>1</th>\n",
       "      <td>Province 1</td>\n",
       "      <td>Female</td>\n",
       "      <td>2169418</td>\n",
       "      <td>1387034</td>\n",
       "      <td>63.94</td>\n",
       "    </tr>\n",
       "    <tr>\n",
       "      <th>2</th>\n",
       "      <td>Province 1</td>\n",
       "      <td>Total</td>\n",
       "      <td>4129655</td>\n",
       "      <td>2940994</td>\n",
       "      <td>71.22</td>\n",
       "    </tr>\n",
       "    <tr>\n",
       "      <th>3</th>\n",
       "      <td>Province 2</td>\n",
       "      <td>Male</td>\n",
       "      <td>2416843</td>\n",
       "      <td>1452362</td>\n",
       "      <td>60.09</td>\n",
       "    </tr>\n",
       "    <tr>\n",
       "      <th>4</th>\n",
       "      <td>Province 2</td>\n",
       "      <td>Female</td>\n",
       "      <td>2393800</td>\n",
       "      <td>930760</td>\n",
       "      <td>38.88</td>\n",
       "    </tr>\n",
       "  </tbody>\n",
       "</table>\n",
       "</div>"
      ],
      "text/plain": [
       "     Province     Sex  Population_Aged_5_years_above  \\\n",
       "0  Province 1    Male                        1960237   \n",
       "1  Province 1  Female                        2169418   \n",
       "2  Province 1   Total                        4129655   \n",
       "3  Province 2    Male                        2416843   \n",
       "4  Province 2  Female                        2393800   \n",
       "\n",
       "   Population_who_are_Can_read_write  Literacy_Rate  \n",
       "0                            1553960          79.27  \n",
       "1                            1387034          63.94  \n",
       "2                            2940994          71.22  \n",
       "3                            1452362          60.09  \n",
       "4                             930760          38.88  "
      ]
     },
     "execution_count": 5,
     "metadata": {},
     "output_type": "execute_result"
    }
   ],
   "source": [
    "read_csv.head()"
   ]
  },
  {
   "cell_type": "code",
   "execution_count": 10,
   "metadata": {},
   "outputs": [],
   "source": [
    "sql1 = \"select Province,Population_Aged_5_years_above,Population_who_are_Can_read_write,Literacy_Rate as Total from read_csv where(Sex=='Total' and Province != 'Nepal')\"\n",
    "sql2 = \"select Literacy_Rate as Male from read_csv where(Sex=='Male' and Province != 'Nepal')\"\n",
    "sql3 = \"select Literacy_Rate as Female from read_csv where(Sex=='Female' and Province != 'Nepal')\""
   ]
  },
  {
   "cell_type": "code",
   "execution_count": 11,
   "metadata": {},
   "outputs": [],
   "source": [
    "df1 = pandasql.sqldf(sql1)\n",
    "df2 = pandasql.sqldf(sql2)\n",
    "df3 = pandasql.sqldf(sql3)"
   ]
  },
  {
   "cell_type": "code",
   "execution_count": 12,
   "metadata": {},
   "outputs": [],
   "source": [
    "df1 = df1.join(df2)\n",
    "df1 = df1.join(df3)"
   ]
  },
  {
   "cell_type": "code",
   "execution_count": 13,
   "metadata": {},
   "outputs": [
    {
     "data": {
      "text/html": [
       "<div>\n",
       "<style scoped>\n",
       "    .dataframe tbody tr th:only-of-type {\n",
       "        vertical-align: middle;\n",
       "    }\n",
       "\n",
       "    .dataframe tbody tr th {\n",
       "        vertical-align: top;\n",
       "    }\n",
       "\n",
       "    .dataframe thead th {\n",
       "        text-align: right;\n",
       "    }\n",
       "</style>\n",
       "<table border=\"1\" class=\"dataframe\">\n",
       "  <thead>\n",
       "    <tr style=\"text-align: right;\">\n",
       "      <th></th>\n",
       "      <th>Province</th>\n",
       "      <th>Population_Aged_5_years_above</th>\n",
       "      <th>Population_who_are_Can_read_write</th>\n",
       "      <th>Total</th>\n",
       "      <th>Male</th>\n",
       "      <th>Female</th>\n",
       "    </tr>\n",
       "  </thead>\n",
       "  <tbody>\n",
       "    <tr>\n",
       "      <th>0</th>\n",
       "      <td>Province 1</td>\n",
       "      <td>4129655</td>\n",
       "      <td>2940994</td>\n",
       "      <td>71.22</td>\n",
       "      <td>79.27</td>\n",
       "      <td>63.94</td>\n",
       "    </tr>\n",
       "    <tr>\n",
       "      <th>1</th>\n",
       "      <td>Province 2</td>\n",
       "      <td>4810643</td>\n",
       "      <td>2383122</td>\n",
       "      <td>49.54</td>\n",
       "      <td>60.09</td>\n",
       "      <td>38.88</td>\n",
       "    </tr>\n",
       "    <tr>\n",
       "      <th>2</th>\n",
       "      <td>Province 3</td>\n",
       "      <td>5117672</td>\n",
       "      <td>3830654</td>\n",
       "      <td>74.85</td>\n",
       "      <td>82.82</td>\n",
       "      <td>67.04</td>\n",
       "    </tr>\n",
       "    <tr>\n",
       "      <th>3</th>\n",
       "      <td>Gandaki</td>\n",
       "      <td>2197047</td>\n",
       "      <td>1643506</td>\n",
       "      <td>74.81</td>\n",
       "      <td>83.54</td>\n",
       "      <td>67.72</td>\n",
       "    </tr>\n",
       "    <tr>\n",
       "      <th>4</th>\n",
       "      <td>Province 5</td>\n",
       "      <td>4048610</td>\n",
       "      <td>2689353</td>\n",
       "      <td>66.43</td>\n",
       "      <td>75.50</td>\n",
       "      <td>58.33</td>\n",
       "    </tr>\n",
       "    <tr>\n",
       "      <th>5</th>\n",
       "      <td>Karnali</td>\n",
       "      <td>1367002</td>\n",
       "      <td>858126</td>\n",
       "      <td>62.77</td>\n",
       "      <td>72.88</td>\n",
       "      <td>53.21</td>\n",
       "    </tr>\n",
       "    <tr>\n",
       "      <th>6</th>\n",
       "      <td>Province 7</td>\n",
       "      <td>2255912</td>\n",
       "      <td>1432031</td>\n",
       "      <td>63.48</td>\n",
       "      <td>76.37</td>\n",
       "      <td>51.93</td>\n",
       "    </tr>\n",
       "  </tbody>\n",
       "</table>\n",
       "</div>"
      ],
      "text/plain": [
       "     Province  Population_Aged_5_years_above  \\\n",
       "0  Province 1                        4129655   \n",
       "1  Province 2                        4810643   \n",
       "2  Province 3                        5117672   \n",
       "3     Gandaki                        2197047   \n",
       "4  Province 5                        4048610   \n",
       "5     Karnali                        1367002   \n",
       "6  Province 7                        2255912   \n",
       "\n",
       "   Population_who_are_Can_read_write  Total   Male  Female  \n",
       "0                            2940994  71.22  79.27   63.94  \n",
       "1                            2383122  49.54  60.09   38.88  \n",
       "2                            3830654  74.85  82.82   67.04  \n",
       "3                            1643506  74.81  83.54   67.72  \n",
       "4                            2689353  66.43  75.50   58.33  \n",
       "5                             858126  62.77  72.88   53.21  \n",
       "6                            1432031  63.48  76.37   51.93  "
      ]
     },
     "execution_count": 13,
     "metadata": {},
     "output_type": "execute_result"
    }
   ],
   "source": [
    "df1"
   ]
  },
  {
   "cell_type": "code",
   "execution_count": 14,
   "metadata": {},
   "outputs": [
    {
     "data": {
      "image/png": "[encoded data removed]",
      "text/plain": [
       "<Figure size 432x288 with 1 Axes>"
      ]
     },
     "metadata": {
      "needs_background": "light"
     },
     "output_type": "display_data"
    }
   ],
   "source": [
    "ax = df1.plot.bar(x='Province',y=['Female','Male'])\n",
    "plt.title('Literacy Rate in Nepal(2011)')\n",
    "plt.show() "
   ]
  },
  {
   "cell_type": "code",
   "execution_count": 15,
   "metadata": {},
   "outputs": [
    {
     "data": {
      "image/png": "[encoded data removed]",
      "text/plain": [
       "<Figure size 432x288 with 1 Axes>"
      ]
     },
     "metadata": {
      "needs_background": "light"
     },
     "output_type": "display_data"
    }
   ],
   "source": [
    "bx = df1.plot.bar(x='Province',y=['Total'])\n",
    "plt.title('Literacy Rate in Nepal(2011)')\n",
    "plt.show()"
   ]
  },
  {
   "cell_type": "code",
   "execution_count": 18,
   "metadata": {},
   "outputs": [
    {
     "data": {
      "image/png": "[encoded data removed]",
      "text/plain": [
       "<Figure size 432x288 with 1 Axes>"
      ]
     },
     "metadata": {
      "needs_background": "light"
     },
     "output_type": "display_data"
    }
   ],
   "source": [
    "dx = df1.plot.bar(x='Province',y=['Population_who_are_Can_read_write'])\n",
    "#plt.title('Literacy Rate in Nepal(2011)')\n",
    "plt.show()"
   ]
  },
  {
   "cell_type": "code",
   "execution_count": null,
   "metadata": {},
   "outputs": [],
   "source": []
  }
 ],
 "metadata": {
  "kernelspec": {
   "display_name": "Python 3",
   "language": "python",
   "name": "python3"
  },
  "language_info": {
   "codemirror_mode": {
    "name": "ipython",
    "version": 3
   },
   "file_extension": ".py",
   "mimetype": "text/x-python",
   "name": "python",
   "nbconvert_exporter": "python",
   "pygments_lexer": "ipython3",
   "version": "3.7.1"
  }
 },
 "nbformat": 4,
 "nbformat_minor": 2
}
