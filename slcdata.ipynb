{
 "cells": [
  {
   "cell_type": "code",
   "execution_count": 1,
   "metadata": {},
   "outputs": [],
   "source": [
    "#Webscraping and Analyzing data\n",
    "#For that purpose we are going to use SLC result data\n",
    "\n",
    "#Steps we are going to follow\n",
    "\n",
    "#(1) Query the website\n",
    "#(2) Extract the required data\n",
    "#(3) Preprocess the data\n",
    "#(4) Analyze the data"
   ]
  },
  {
   "cell_type": "code",
   "execution_count": null,
   "metadata": {},
   "outputs": [],
   "source": [
    "#(1) Query the website"
   ]
  },
  {
   "cell_type": "code",
   "execution_count": null,
   "metadata": {},
   "outputs": [],
   "source": [
    "#Import pandas to convert list to data frame\n",
    "\n",
    "import pandas as pd\n",
    "import numpy as np"
   ]
  },
  {
   "cell_type": "code",
   "execution_count": 2,
   "metadata": {},
   "outputs": [],
   "source": [
    "import urllib.request\n",
    "\n",
    "#import the beatiful soup functions to parse the data\n",
    "from bs4 import BeautifulSoup"
   ]
  },
  {
   "cell_type": "code",
   "execution_count": 3,
   "metadata": {},
   "outputs": [],
   "source": [
    "url = \"http://gbsnote.com/slc-result-history-nepal/\""
   ]
  },
  {
   "cell_type": "code",
   "execution_count": 4,
   "metadata": {},
   "outputs": [],
   "source": [
    "#query the website\n",
    "page = urllib.request.urlopen(url)"
   ]
  },
  {
   "cell_type": "code",
   "execution_count": 5,
   "metadata": {},
   "outputs": [],
   "source": [
    "#parse the html and store in Beautiful soup format\n",
    "soup = BeautifulSoup(page)"
   ]
  },
  {
   "cell_type": "code",
   "execution_count": 37,
   "metadata": {},
   "outputs": [],
   "source": [
    "#see HTML page nested structure\n",
    "#print(soup.prettify())"
   ]
  },
  {
   "cell_type": "code",
   "execution_count": 7,
   "metadata": {},
   "outputs": [
    {
     "data": {
      "text/plain": [
       "'SLC Result History, SLC Result History in Nepal - GBS NOTE'"
      ]
     },
     "execution_count": 7,
     "metadata": {},
     "output_type": "execute_result"
    }
   ],
   "source": [
    "soup.title.string"
   ]
  },
  {
   "cell_type": "code",
   "execution_count": 8,
   "metadata": {},
   "outputs": [
    {
     "data": {
      "text/plain": [
       "<a href=\"#\"><i class=\"td-icon-close-mobile\"></i></a>"
      ]
     },
     "execution_count": 8,
     "metadata": {},
     "output_type": "execute_result"
    }
   ],
   "source": [
    "soup.a"
   ]
  },
  {
   "cell_type": "code",
   "execution_count": null,
   "metadata": {},
   "outputs": [],
   "source": [
    "#(2) Extract the required data"
   ]
  },
  {
   "cell_type": "code",
   "execution_count": 41,
   "metadata": {},
   "outputs": [
    {
     "name": "stdout",
     "output_type": "stream",
     "text": [
      "#\n",
      "http://gbsnote.com/category/news/\n",
      "http://gbsnote.com/category/jobs/\n",
      "http://gbsnote.com/category/abroad-study/\n",
      "http://gbsnote.com/category/abroad-study/australia/\n",
      "http://gbsnote.com/category/abroad-study/usa/\n",
      "http://gbsnote.com/category/exam-routine/\n",
      "http://gbsnote.com/category/exam-routine/slc-routine/\n",
      "http://gbsnote.com/category/exam-routine/hseb-11-routine/\n",
      "http://gbsnote.com/category/exam-routine/hseb-12-routine/\n",
      "http://gbsnote.com/category/exam-routine/tu-routine/\n",
      "http://gbsnote.com/category/exam-routine/ku-routine/\n",
      "http://gbsnote.com/category/exam-routine/ku-routine-exam-routine/\n",
      "http://gbsnote.com/category/result/\n",
      "http://gbsnote.com/category/result/slc-result/\n",
      "http://gbsnote.com/category/result/hseb-11-result/\n",
      "http://gbsnote.com/category/result/hseb-12-result/\n",
      "http://gbsnote.com/category/result/tu-result/\n",
      "http://gbsnote.com/category/result/ku-result/\n",
      "http://gbsnote.com/category/result/ku-result-result/\n",
      "http://gbsnote.com/category/entrance-guide/\n",
      "http://gbsnote.com/category/eps-topik/\n",
      "http://gbsnote.com/category/tsc/\n",
      "http://gbsnote.com/category/loksewa/\n",
      "#\n",
      "http://www.gbsnote.com\n",
      "http://gbsnote.com/about-us/\n",
      "http://gbsnote.com/contact-us\n",
      "http://gbsnote.com/privacy-policy/\n",
      "http://gbsnote.com/\n",
      "#\n",
      "http://gbsnote.com/\n",
      "http://gbsnote.com/\n",
      "http://gbsnote.com/category/news/\n",
      "http://gbsnote.com/category/jobs/\n",
      "http://gbsnote.com/category/abroad-study/\n",
      "http://gbsnote.com/category/abroad-study/australia/\n",
      "http://gbsnote.com/category/abroad-study/usa/\n",
      "http://gbsnote.com/category/exam-routine/\n",
      "http://gbsnote.com/category/exam-routine/slc-routine/\n",
      "http://gbsnote.com/category/exam-routine/hseb-11-routine/\n",
      "http://gbsnote.com/category/exam-routine/hseb-12-routine/\n",
      "http://gbsnote.com/category/exam-routine/tu-routine/\n",
      "http://gbsnote.com/category/exam-routine/ku-routine/\n",
      "http://gbsnote.com/category/exam-routine/ku-routine-exam-routine/\n",
      "http://gbsnote.com/category/result/\n",
      "http://gbsnote.com/category/result/slc-result/\n",
      "http://gbsnote.com/category/result/hseb-11-result/\n",
      "http://gbsnote.com/category/result/hseb-12-result/\n",
      "http://gbsnote.com/category/result/tu-result/\n",
      "http://gbsnote.com/category/result/ku-result/\n",
      "http://gbsnote.com/category/result/ku-result-result/\n",
      "http://gbsnote.com/category/entrance-guide/\n",
      "http://gbsnote.com/category/eps-topik/\n",
      "http://gbsnote.com/category/tsc/\n",
      "http://gbsnote.com/category/loksewa/\n",
      "#\n",
      "#\n",
      "http://gbsnote.com/\n",
      "http://gbsnote.com/category/see/\n",
      "http://gbsnote.com/category/see/\n",
      "http://gbsnote.com/category/slc/\n",
      "http://gbsnote.com/category/result/\n",
      "http://gbsnote.com/category/result/slc-result/\n",
      "http://gbsnote.com/author/admin/\n",
      "http://gbsnote.com/slc-result-history-nepal/#respond\n",
      "https://www.facebook.com/sharer.php?u=http%3A%2F%2Fgbsnote.com%2Fslc-result-history-nepal%2F\n",
      "https://twitter.com/intent/tweet?text=SLC+Result+History+in+Nepal&url=http%3A%2F%2Fgbsnote.com%2Fslc-result-history-nepal%2F&via=GBS+Note\n",
      "https://plus.google.com/share?url=http://gbsnote.com/slc-result-history-nepal/\n",
      "https://pinterest.com/pin/create/button/?url=http://gbsnote.com/slc-result-history-nepal/&media=http://gbsnote.com/wp-content/uploads/slc-history-.jpg&description=Here is the SLC result history in Nepal. The slc result history is given here since 1990 BS. So you can find the data of slc result from 1990 BS.\n",
      "whatsapp://send?text=SLC Result History in Nepal %0A%0A http://gbsnote.com/slc-result-history-nepal/\n",
      "#\n",
      "http://gbsnote.com/wp-content/uploads/slc-history-.jpg?x20302\n",
      "http://gbsnote.com/2074-see-board-exam-result/\n",
      "http://gbsnote.com/see-exam-result-2073/\n",
      "http://gbsnote.com/see-chance-exam-2074-result/\n",
      "http://gbsnote.com/grade-xi-english-questions/\n",
      "http://gbsnote.com/top-plus-two-colleges-nepal/\n",
      "http://gbsnote.com/grade-11-best-faculties/\n",
      "http://gbsnote.com/2074-see-board-exam-result/\n",
      "http://gbsnote.com/tag/nepal-slc-result/\n",
      "http://gbsnote.com/tag/nepal-slc-result-history/\n",
      "http://gbsnote.com/tag/slc-result/\n",
      "http://gbsnote.com/tag/slc-result-2073/\n",
      "http://gbsnote.com/tag/slc-result-history/\n",
      "http://gbsnote.com/tag/slc-result-nepal/\n",
      "https://www.facebook.com/sharer.php?u=http%3A%2F%2Fgbsnote.com%2Fslc-result-history-nepal%2F\n",
      "https://twitter.com/intent/tweet?text=SLC+Result+History+in+Nepal&url=http%3A%2F%2Fgbsnote.com%2Fslc-result-history-nepal%2F&via=GBS+Note\n",
      "https://plus.google.com/share?url=http://gbsnote.com/slc-result-history-nepal/\n",
      "https://pinterest.com/pin/create/button/?url=http://gbsnote.com/slc-result-history-nepal/&media=http://gbsnote.com/wp-content/uploads/slc-history-.jpg&description=Here is the SLC result history in Nepal. The slc result history is given here since 1990 BS. So you can find the data of slc result from 1990 BS.\n",
      "whatsapp://send?text=SLC Result History in Nepal %0A%0A http://gbsnote.com/slc-result-history-nepal/\n",
      "#\n",
      "http://gbsnote.com/online-see-result/\n",
      "http://gbsnote.com/perfect-see-trigonometry-guide/\n",
      "http://gbsnote.com/author/admin/\n",
      "http://gbsnote.com/author/admin/\n",
      "http://gbsnote.com\n",
      "baralmp@ymail.com\n",
      "#\n",
      "#\n",
      "http://gbsnote.com/all-provinces-see-result-2075/\n",
      "http://gbsnote.com/all-provinces-see-result-2075/\n",
      "http://gbsnote.com/see-2075-questions-standards/\n",
      "http://gbsnote.com/see-2075-questions-standards/\n",
      "http://gbsnote.com/gandaki-province-see-result-2075-see-result/\n",
      "http://gbsnote.com/gandaki-province-see-result-2075-see-result/\n",
      "#\n",
      "#\n",
      "/slc-result-history-nepal/#respond\n",
      "http://gbsnote.com/all-provinces-see-result-2075/\n",
      "http://gbsnote.com/all-provinces-see-result-2075/\n",
      "http://gbsnote.com/dv-2020-winners-list/\n",
      "http://gbsnote.com/dv-2020-winners-list/\n",
      "http://gbsnote.com/see-2075-questions-standards/\n",
      "http://gbsnote.com/see-2075-questions-standards/\n",
      "http://gbsnote.com/japan-migration-visa/\n",
      "http://gbsnote.com/japan-migration-visa/\n",
      "http://gbsnote.com/nepal-japan-workers-moc/\n",
      "http://gbsnote.com/nepal-japan-workers-moc/\n",
      "http://gbsnote.com/gandaki-province-see-result-2075-see-result/\n",
      "http://gbsnote.com/gandaki-province-see-result-2075-see-result/\n",
      "http://gbsnote.com/e-sewa-nepal/\n",
      "http://gbsnote.com/e-sewa-nepal/\n",
      "http://gbsnote.com/tsc-nepal-temporary-teachers-result-2075/\n",
      "http://gbsnote.com/tsc-nepal-temporary-teachers-result-2075/\n",
      "http://gbsnote.com/author/admin/\n",
      "http://gbsnote.com/tsc-nepal-temporary-teachers-result-2075/#respond\n",
      "http://gbsnote.com/french-army-job/\n",
      "http://gbsnote.com/french-army-job/\n",
      "http://gbsnote.com/author/admin/\n",
      "http://gbsnote.com/french-army-job/#respond\n",
      "http://gbsnote.com/dv-2019-2075-result/\n",
      "http://gbsnote.com/dv-2019-2075-result/\n",
      "http://gbsnote.com/author/admin/\n",
      "http://gbsnote.com/dv-2019-2075-result/#respond\n",
      "http://gbsnote.com/secondary-level-tsc-nepal-2075-result-published/\n",
      "http://gbsnote.com/secondary-level-tsc-nepal-2075-result-published/\n",
      "http://gbsnote.com/author/admin/\n",
      "http://gbsnote.com/secondary-level-tsc-nepal-2075-result-published/#respond\n",
      "http://gbsnote.com/edv-2019-free-registration/\n",
      "http://gbsnote.com/edv-2019-free-registration/\n",
      "http://gbsnote.com/author/admin/\n",
      "http://gbsnote.com/edv-2019-free-registration/#respond\n",
      "http://www.gbsnote.com\n",
      "http://gbsnote.com/about-us/\n",
      "http://gbsnote.com/contact-us\n",
      "http://gbsnote.com/privacy-policy/\n",
      "#\n",
      "#\n"
     ]
    }
   ],
   "source": [
    "#find all links\n",
    "\n",
    "all_links = soup.find_all(\"a\")\n",
    "for link in all_links:\n",
    "    print(link.get(\"href\"))"
   ]
  },
  {
   "cell_type": "code",
   "execution_count": 39,
   "metadata": {},
   "outputs": [
    {
     "name": "stdout",
     "output_type": "stream",
     "text": [
      "<table width=\"460\">\n",
      "<tbody>\n",
      "<tr>\n",
      "<td colspan=\"4\" style=\"text-align: center;\" width=\"460\"><strong>                    <a href=\"http://gbsnote.com/see-exam-result-2073/\" rel=\"noopener noreferrer\" target=\"_blank\">SLC RESULT AT A GLANCE</a></strong></td>\n",
      "</tr>\n",
      "<tr>\n",
      "<td width=\"79\"><strong>Year (BS)</strong></td>\n",
      "<td width=\"133\"><strong>Total Appeared</strong></td>\n",
      "<td width=\"109\"><strong>Total Passed</strong></td>\n",
      "<td width=\"139\"><strong>Pass Percentage</strong></td>\n",
      "</tr>\n",
      "<tr>\n",
      "<td width=\"79\">1990</td>\n",
      "<td width=\"133\">33</td>\n",
      "<td width=\"109\">19</td>\n",
      "<td width=\"139\">57.58%</td>\n",
      "</tr>\n",
      "<tr>\n",
      "<td width=\"79\">1991</td>\n",
      "<td width=\"133\">26</td>\n",
      "<td width=\"109\">15</td>\n",
      "<td width=\"139\">57.69%</td>\n",
      "</tr>\n",
      "<tr>\n",
      "<td width=\"79\">1992</td>\n",
      "<td width=\"133\">35</td>\n",
      "<td width=\"109\">24</td>\n",
      "<td width=\"139\">68.57%</td>\n",
      "</tr>\n",
      "<tr>\n",
      "<td width=\"79\">1993</td>\n",
      "<td width=\"133\">36</td>\n",
      "<td width=\"109\">22</td>\n",
      "<td width=\"139\">61.11%</td>\n",
      "</tr>\n",
      "<tr>\n",
      "<td width=\"79\">1994</td>\n",
      "<td width=\"133\">50</td>\n",
      "<td width=\"109\">36</td>\n",
      "<td width=\"139\">72.00%</td>\n",
      "</tr>\n",
      "<tr>\n",
      "<td width=\"79\">1995</td>\n",
      "<td width=\"133\">55</td>\n",
      "<td width=\"109\">29</td>\n",
      "<td width=\"139\">52.73%</td>\n",
      "</tr>\n",
      "<tr>\n",
      "<td width=\"79\">1996</td>\n",
      "<td width=\"133\">55</td>\n",
      "<td width=\"109\">35</td>\n",
      "<td width=\"139\">63.64%</td>\n",
      "</tr>\n",
      "<tr>\n",
      "<td width=\"79\">1997</td>\n",
      "<td width=\"133\">41</td>\n",
      "<td width=\"109\">29</td>\n",
      "<td width=\"139\">70.73%</td>\n",
      "</tr>\n",
      "<tr>\n",
      "<td width=\"79\">1998</td>\n",
      "<td width=\"133\">54</td>\n",
      "<td width=\"109\">42</td>\n",
      "<td width=\"139\">77.78%</td>\n",
      "</tr>\n",
      "<tr>\n",
      "<td width=\"79\">1999</td>\n",
      "<td width=\"133\">84</td>\n",
      "<td width=\"109\">55</td>\n",
      "<td width=\"139\">65.48%</td>\n",
      "</tr>\n",
      "<tr>\n",
      "<td width=\"79\">2000</td>\n",
      "<td width=\"133\">133</td>\n",
      "<td width=\"109\">78</td>\n",
      "<td width=\"139\">58.65%</td>\n",
      "</tr>\n",
      "<tr>\n",
      "<td width=\"79\">2001</td>\n",
      "<td width=\"133\">141</td>\n",
      "<td width=\"109\">89</td>\n",
      "<td width=\"139\">63.12%</td>\n",
      "</tr>\n",
      "<tr>\n",
      "<td width=\"79\">2002</td>\n",
      "<td width=\"133\">227</td>\n",
      "<td width=\"109\">143</td>\n",
      "<td width=\"139\">63.00%</td>\n",
      "</tr>\n",
      "<tr>\n",
      "<td width=\"79\">2003</td>\n",
      "<td width=\"133\">187</td>\n",
      "<td width=\"109\">117</td>\n",
      "<td width=\"139\">62.57%</td>\n",
      "</tr>\n",
      "<tr>\n",
      "<td width=\"79\">2004</td>\n",
      "<td width=\"133\">222</td>\n",
      "<td width=\"109\">105</td>\n",
      "<td width=\"139\">47.30%</td>\n",
      "</tr>\n",
      "<tr>\n",
      "<td width=\"79\">2005</td>\n",
      "<td width=\"133\">243</td>\n",
      "<td width=\"109\">92</td>\n",
      "<td width=\"139\">37.86%</td>\n",
      "</tr>\n",
      "<tr>\n",
      "<td width=\"79\">2006</td>\n",
      "<td width=\"133\">259</td>\n",
      "<td width=\"109\">108</td>\n",
      "<td width=\"139\">41.70%</td>\n",
      "</tr>\n",
      "<tr>\n",
      "<td width=\"79\">2007</td>\n",
      "<td width=\"133\">80</td>\n",
      "<td width=\"109\">53</td>\n",
      "<td width=\"139\">66.25%</td>\n",
      "</tr>\n",
      "<tr>\n",
      "<td width=\"79\">2008</td>\n",
      "<td width=\"133\">432</td>\n",
      "<td width=\"109\">195</td>\n",
      "<td width=\"139\">45.14%</td>\n",
      "</tr>\n",
      "<tr>\n",
      "<td width=\"79\">2009</td>\n",
      "<td width=\"133\">785</td>\n",
      "<td width=\"109\">295</td>\n",
      "<td width=\"139\">37.58%</td>\n",
      "</tr>\n",
      "<tr>\n",
      "<td width=\"79\">2010</td>\n",
      "<td width=\"133\">1151</td>\n",
      "<td width=\"109\">421</td>\n",
      "<td width=\"139\">36.58%</td>\n",
      "</tr>\n",
      "<tr>\n",
      "<td width=\"79\">2011</td>\n",
      "<td width=\"133\">1326</td>\n",
      "<td width=\"109\">423</td>\n",
      "<td width=\"139\">31.90%</td>\n",
      "</tr>\n",
      "<tr>\n",
      "<td width=\"79\">2012</td>\n",
      "<td width=\"133\">1641</td>\n",
      "<td width=\"109\">581</td>\n",
      "<td width=\"139\">35.41%</td>\n",
      "</tr>\n",
      "<tr>\n",
      "<td width=\"79\">2013</td>\n",
      "<td width=\"133\">1768</td>\n",
      "<td width=\"109\">838</td>\n",
      "<td width=\"139\">47.40%</td>\n",
      "</tr>\n",
      "<tr>\n",
      "<td width=\"79\">2014</td>\n",
      "<td width=\"133\">2338</td>\n",
      "<td width=\"109\">971</td>\n",
      "<td width=\"139\">41.53%</td>\n",
      "</tr>\n",
      "<tr>\n",
      "<td width=\"79\">2015</td>\n",
      "<td width=\"133\">2395</td>\n",
      "<td width=\"109\">1094</td>\n",
      "<td width=\"139\">45.68%</td>\n",
      "</tr>\n",
      "<tr>\n",
      "<td width=\"79\">2016</td>\n",
      "<td width=\"133\">2700</td>\n",
      "<td width=\"109\">1108</td>\n",
      "<td width=\"139\">41.04%</td>\n",
      "</tr>\n",
      "<tr>\n",
      "<td width=\"79\">2017</td>\n",
      "<td width=\"133\">3571</td>\n",
      "<td width=\"109\">1184</td>\n",
      "<td width=\"139\">33.16%</td>\n",
      "</tr>\n",
      "<tr>\n",
      "<td width=\"79\">2018</td>\n",
      "<td width=\"133\">3896</td>\n",
      "<td width=\"109\">1304</td>\n",
      "<td width=\"139\">33.47%</td>\n",
      "</tr>\n",
      "<tr>\n",
      "<td width=\"79\">2019</td>\n",
      "<td width=\"133\">3616</td>\n",
      "<td width=\"109\">677</td>\n",
      "<td width=\"139\">18.72%</td>\n",
      "</tr>\n",
      "<tr>\n",
      "<td width=\"79\">2020</td>\n",
      "<td width=\"133\">4137</td>\n",
      "<td width=\"109\">1655</td>\n",
      "<td width=\"139\">40.00%</td>\n",
      "</tr>\n",
      "<tr>\n",
      "<td width=\"79\">2021</td>\n",
      "<td width=\"133\">4833</td>\n",
      "<td width=\"109\">2559</td>\n",
      "<td width=\"139\">52.95%</td>\n",
      "</tr>\n",
      "<tr>\n",
      "<td width=\"79\">2022</td>\n",
      "<td width=\"133\">6119</td>\n",
      "<td width=\"109\">3031</td>\n",
      "<td width=\"139\">49.53%</td>\n",
      "</tr>\n",
      "<tr>\n",
      "<td width=\"79\">2023</td>\n",
      "<td width=\"133\">9218</td>\n",
      "<td width=\"109\">3624</td>\n",
      "<td width=\"139\">39.31%</td>\n",
      "</tr>\n",
      "<tr>\n",
      "<td width=\"79\">2024</td>\n",
      "<td width=\"133\">12134</td>\n",
      "<td width=\"109\">5871</td>\n",
      "<td width=\"139\">48.38%</td>\n",
      "</tr>\n",
      "<tr>\n",
      "<td width=\"79\">2025</td>\n",
      "<td width=\"133\">15595</td>\n",
      "<td width=\"109\">8294</td>\n",
      "<td width=\"139\">53.18%</td>\n",
      "</tr>\n",
      "<tr>\n",
      "<td width=\"79\">2026</td>\n",
      "<td width=\"133\">17211</td>\n",
      "<td width=\"109\">5279</td>\n",
      "<td width=\"139\">30.67%</td>\n",
      "</tr>\n",
      "<tr>\n",
      "<td width=\"79\">2027</td>\n",
      "<td width=\"133\">17192</td>\n",
      "<td width=\"109\">5157</td>\n",
      "<td width=\"139\">30.00%</td>\n",
      "</tr>\n",
      "<tr>\n",
      "<td width=\"79\">2028</td>\n",
      "<td width=\"133\">15772</td>\n",
      "<td width=\"109\">5267</td>\n",
      "<td width=\"139\">33.39%</td>\n",
      "</tr>\n",
      "<tr>\n",
      "<td width=\"79\">2029</td>\n",
      "<td width=\"133\">16202</td>\n",
      "<td width=\"109\">5929</td>\n",
      "<td width=\"139\">36.59%</td>\n",
      "</tr>\n",
      "<tr>\n",
      "<td width=\"79\">2030</td>\n",
      "<td width=\"133\">21286</td>\n",
      "<td width=\"109\">7813</td>\n",
      "<td width=\"139\">36.70%</td>\n",
      "</tr>\n",
      "<tr>\n",
      "<td width=\"79\">2031</td>\n",
      "<td width=\"133\">27729</td>\n",
      "<td width=\"109\">11250</td>\n",
      "<td width=\"139\">40.57%</td>\n",
      "</tr>\n",
      "<tr>\n",
      "<td width=\"79\">2032</td>\n",
      "<td width=\"133\">32720</td>\n",
      "<td width=\"109\">7208</td>\n",
      "<td width=\"139\">22.03%</td>\n",
      "</tr>\n",
      "<tr>\n",
      "<td width=\"79\">2033</td>\n",
      "<td width=\"133\">35189</td>\n",
      "<td width=\"109\">10939</td>\n",
      "<td width=\"139\">31.09%</td>\n",
      "</tr>\n",
      "<tr>\n",
      "<td width=\"79\">2034</td>\n",
      "<td width=\"133\">41008</td>\n",
      "<td width=\"109\">13961</td>\n",
      "<td width=\"139\">34.04%</td>\n",
      "</tr>\n",
      "<tr>\n",
      "<td width=\"79\">2035</td>\n",
      "<td width=\"133\">48443</td>\n",
      "<td width=\"109\">13511</td>\n",
      "<td width=\"139\">27.89%</td>\n",
      "</tr>\n",
      "<tr>\n",
      "<td width=\"79\">\n",
      "<h3>2036</h3>\n",
      "</td>\n",
      "<td width=\"133\">63989</td>\n",
      "<td width=\"109\">18789</td>\n",
      "<td width=\"139\">29.36%</td>\n",
      "</tr>\n",
      "<tr>\n",
      "<td width=\"79\">2037</td>\n",
      "<td width=\"133\">72819</td>\n",
      "<td width=\"109\">15608</td>\n",
      "<td width=\"139\">21.43%</td>\n",
      "</tr>\n",
      "<tr>\n",
      "<td width=\"79\">2038</td>\n",
      "<td width=\"133\">79968</td>\n",
      "<td width=\"109\">13337</td>\n",
      "<td width=\"139\">16.68%</td>\n",
      "</tr>\n",
      "<tr>\n",
      "<td width=\"79\">2039</td>\n",
      "<td width=\"133\">80886</td>\n",
      "<td width=\"109\">16434</td>\n",
      "<td width=\"139\">20.32%</td>\n",
      "</tr>\n",
      "<tr>\n",
      "<td width=\"79\">2040</td>\n",
      "<td width=\"133\">100001</td>\n",
      "<td width=\"109\">23824</td>\n",
      "<td width=\"139\">23.82%</td>\n",
      "</tr>\n",
      "<tr>\n",
      "<td width=\"79\">2041</td>\n",
      "<td width=\"133\">99862</td>\n",
      "<td width=\"109\">29546</td>\n",
      "<td width=\"139\">29.59%</td>\n",
      "</tr>\n",
      "<tr>\n",
      "<td width=\"79\">2042</td>\n",
      "<td width=\"133\">63689</td>\n",
      "<td width=\"109\">15119</td>\n",
      "<td width=\"139\">23.74%</td>\n",
      "</tr>\n",
      "<tr>\n",
      "<td width=\"79\">2043</td>\n",
      "<td width=\"133\">49351</td>\n",
      "<td width=\"109\">17201</td>\n",
      "<td width=\"139\">34.85%</td>\n",
      "</tr>\n",
      "<tr>\n",
      "<td width=\"79\">2044</td>\n",
      "<td width=\"133\">50495</td>\n",
      "<td width=\"109\">18402</td>\n",
      "<td width=\"139\">36.44%</td>\n",
      "</tr>\n",
      "</tbody>\n",
      "</table>\n"
     ]
    }
   ],
   "source": [
    "#find all tables\n",
    "all_tables = soup.find('table')\n",
    "print(all_tables)"
   ]
  },
  {
   "cell_type": "code",
   "execution_count": 11,
   "metadata": {},
   "outputs": [],
   "source": [
    "#Generate lists\n",
    "\n",
    "A = []\n",
    "B = []\n",
    "C = []\n",
    "D = []\n",
    "\n",
    "for row in all_tables.findAll(\"tr\"):\n",
    "    cells = row.findAll('td')\n",
    "    \n",
    "    #Only extract table body\n",
    "    if(len(cells) == 4):\n",
    "        A.append(cells[0].find(text = True))\n",
    "        B.append(cells[1].find(text = True))\n",
    "        C.append(cells[2].find(text = True))\n",
    "        D.append(cells[3].find(text = True))"
   ]
  },
  {
   "cell_type": "code",
   "execution_count": 12,
   "metadata": {},
   "outputs": [],
   "source": [
    "df = pd.DataFrame()\n",
    "\n",
    "df['Year(BS)'] = A\n",
    "df['Total Appeared'] = B\n",
    "df['Total Passed'] = C\n",
    "df['Pass Percentage'] = D\n"
   ]
  },
  {
   "cell_type": "code",
   "execution_count": 13,
   "metadata": {},
   "outputs": [
    {
     "name": "stderr",
     "output_type": "stream",
     "text": [
      "/home/milan/anaconda3/lib/python3.7/site-packages/ipykernel_launcher.py:2: SettingWithCopyWarning: \n",
      "A value is trying to be set on a copy of a slice from a DataFrame.\n",
      "Try using .loc[row_indexer,col_indexer] = value instead\n",
      "\n",
      "See the caveats in the documentation: http://pandas.pydata.org/pandas-docs/stable/indexing.html#indexing-view-versus-copy\n",
      "  \n",
      "/home/milan/anaconda3/lib/python3.7/site-packages/ipykernel_launcher.py:3: SettingWithCopyWarning: \n",
      "A value is trying to be set on a copy of a slice from a DataFrame.\n",
      "Try using .loc[row_indexer,col_indexer] = value instead\n",
      "\n",
      "See the caveats in the documentation: http://pandas.pydata.org/pandas-docs/stable/indexing.html#indexing-view-versus-copy\n",
      "  This is separate from the ipykernel package so we can avoid doing imports until\n"
     ]
    }
   ],
   "source": [
    "truedf = df[1:]\n",
    "truedf['Pass Percentage'] = truedf['Pass Percentage'].str.replace('%', '')\n",
    "truedf['Year(BS)'] = truedf['Year(BS)'].str.replace('\\n', '0')"
   ]
  },
  {
   "cell_type": "code",
   "execution_count": 14,
   "metadata": {},
   "outputs": [],
   "source": [
    "truedf.to_csv('slc.csv', encoding='utf-8', index=False)"
   ]
  },
  {
   "cell_type": "code",
   "execution_count": 15,
   "metadata": {},
   "outputs": [],
   "source": [
    "#(3) Preprocess the data\n",
    "\n",
    "#Data Analyzing starts"
   ]
  },
  {
   "cell_type": "code",
   "execution_count": 16,
   "metadata": {},
   "outputs": [],
   "source": [
    "#Read in data\n",
    "features = pd.read_csv('slc.csv')"
   ]
  },
  {
   "cell_type": "code",
   "execution_count": 19,
   "metadata": {},
   "outputs": [
    {
     "data": {
      "text/plain": [
       "pandas.core.series.Series"
      ]
     },
     "execution_count": 19,
     "metadata": {},
     "output_type": "execute_result"
    }
   ],
   "source": [
    "type(features['Year(BS)'])"
   ]
  },
  {
   "cell_type": "code",
   "execution_count": 20,
   "metadata": {},
   "outputs": [
    {
     "data": {
      "text/plain": [
       "Year(BS)            1979.981818\n",
       "Total Appeared     18425.963636\n",
       "Total Passed        5268.909091\n",
       "Pass Percentage       43.234909\n",
       "dtype: float64"
      ]
     },
     "execution_count": 20,
     "metadata": {},
     "output_type": "execute_result"
    }
   ],
   "source": [
    "features.mean()"
   ]
  },
  {
   "cell_type": "code",
   "execution_count": 21,
   "metadata": {},
   "outputs": [
    {
     "name": "stdout",
     "output_type": "stream",
     "text": [
      "2036\n"
     ]
    }
   ],
   "source": [
    "#Replacing zero value of year\n",
    "past = 0\n",
    "value = 0\n",
    "for value in (features['Year(BS)']):\n",
    "    #print(past)\n",
    "    if(value != 0):\n",
    "        past = value\n",
    "    else:\n",
    "        nextval = past+1\n",
    "        features.replace(value,nextval)\n",
    "        break\n",
    "print(nextval)"
   ]
  },
  {
   "cell_type": "code",
   "execution_count": 22,
   "metadata": {},
   "outputs": [],
   "source": [
    "finalfea = features.replace(value,nextval)"
   ]
  },
  {
   "cell_type": "code",
   "execution_count": 23,
   "metadata": {},
   "outputs": [],
   "source": [
    "finalfea.to_csv('slcfinal.csv', encoding='utf-8', index=False)"
   ]
  },
  {
   "cell_type": "code",
   "execution_count": null,
   "metadata": {},
   "outputs": [],
   "source": [
    "#(4) Analyze the data"
   ]
  },
  {
   "cell_type": "code",
   "execution_count": 24,
   "metadata": {},
   "outputs": [
    {
     "data": {
      "text/html": [
       "<div>\n",
       "<style scoped>\n",
       "    .dataframe tbody tr th:only-of-type {\n",
       "        vertical-align: middle;\n",
       "    }\n",
       "\n",
       "    .dataframe tbody tr th {\n",
       "        vertical-align: top;\n",
       "    }\n",
       "\n",
       "    .dataframe thead th {\n",
       "        text-align: right;\n",
       "    }\n",
       "</style>\n",
       "<table border=\"1\" class=\"dataframe\">\n",
       "  <thead>\n",
       "    <tr style=\"text-align: right;\">\n",
       "      <th></th>\n",
       "      <th>Year(BS)</th>\n",
       "      <th>Total Appeared</th>\n",
       "      <th>Total Passed</th>\n",
       "      <th>Pass Percentage</th>\n",
       "    </tr>\n",
       "  </thead>\n",
       "  <tbody>\n",
       "    <tr>\n",
       "      <th>0</th>\n",
       "      <td>1990</td>\n",
       "      <td>33</td>\n",
       "      <td>19</td>\n",
       "      <td>57.58</td>\n",
       "    </tr>\n",
       "    <tr>\n",
       "      <th>1</th>\n",
       "      <td>1991</td>\n",
       "      <td>26</td>\n",
       "      <td>15</td>\n",
       "      <td>57.69</td>\n",
       "    </tr>\n",
       "    <tr>\n",
       "      <th>2</th>\n",
       "      <td>1992</td>\n",
       "      <td>35</td>\n",
       "      <td>24</td>\n",
       "      <td>68.57</td>\n",
       "    </tr>\n",
       "    <tr>\n",
       "      <th>3</th>\n",
       "      <td>1993</td>\n",
       "      <td>36</td>\n",
       "      <td>22</td>\n",
       "      <td>61.11</td>\n",
       "    </tr>\n",
       "    <tr>\n",
       "      <th>4</th>\n",
       "      <td>1994</td>\n",
       "      <td>50</td>\n",
       "      <td>36</td>\n",
       "      <td>72.00</td>\n",
       "    </tr>\n",
       "  </tbody>\n",
       "</table>\n",
       "</div>"
      ],
      "text/plain": [
       "   Year(BS)  Total Appeared  Total Passed  Pass Percentage\n",
       "0      1990              33            19            57.58\n",
       "1      1991              26            15            57.69\n",
       "2      1992              35            24            68.57\n",
       "3      1993              36            22            61.11\n",
       "4      1994              50            36            72.00"
      ]
     },
     "execution_count": 24,
     "metadata": {},
     "output_type": "execute_result"
    }
   ],
   "source": [
    "finalfea.head()"
   ]
  },
  {
   "cell_type": "code",
   "execution_count": 25,
   "metadata": {},
   "outputs": [
    {
     "data": {
      "text/html": [
       "<div>\n",
       "<style scoped>\n",
       "    .dataframe tbody tr th:only-of-type {\n",
       "        vertical-align: middle;\n",
       "    }\n",
       "\n",
       "    .dataframe tbody tr th {\n",
       "        vertical-align: top;\n",
       "    }\n",
       "\n",
       "    .dataframe thead th {\n",
       "        text-align: right;\n",
       "    }\n",
       "</style>\n",
       "<table border=\"1\" class=\"dataframe\">\n",
       "  <thead>\n",
       "    <tr style=\"text-align: right;\">\n",
       "      <th></th>\n",
       "      <th>Year(BS)</th>\n",
       "      <th>Total Appeared</th>\n",
       "      <th>Total Passed</th>\n",
       "      <th>Pass Percentage</th>\n",
       "    </tr>\n",
       "  </thead>\n",
       "  <tbody>\n",
       "    <tr>\n",
       "      <th>count</th>\n",
       "      <td>55.00000</td>\n",
       "      <td>55.000000</td>\n",
       "      <td>55.000000</td>\n",
       "      <td>55.000000</td>\n",
       "    </tr>\n",
       "    <tr>\n",
       "      <th>mean</th>\n",
       "      <td>2017.00000</td>\n",
       "      <td>18425.963636</td>\n",
       "      <td>5268.909091</td>\n",
       "      <td>43.234909</td>\n",
       "    </tr>\n",
       "    <tr>\n",
       "      <th>std</th>\n",
       "      <td>16.02082</td>\n",
       "      <td>27875.566485</td>\n",
       "      <td>7224.952580</td>\n",
       "      <td>15.463206</td>\n",
       "    </tr>\n",
       "    <tr>\n",
       "      <th>min</th>\n",
       "      <td>1990.00000</td>\n",
       "      <td>26.000000</td>\n",
       "      <td>15.000000</td>\n",
       "      <td>16.680000</td>\n",
       "    </tr>\n",
       "    <tr>\n",
       "      <th>25%</th>\n",
       "      <td>2003.50000</td>\n",
       "      <td>204.500000</td>\n",
       "      <td>98.500000</td>\n",
       "      <td>32.530000</td>\n",
       "    </tr>\n",
       "    <tr>\n",
       "      <th>50%</th>\n",
       "      <td>2017.00000</td>\n",
       "      <td>3571.000000</td>\n",
       "      <td>1108.000000</td>\n",
       "      <td>40.000000</td>\n",
       "    </tr>\n",
       "    <tr>\n",
       "      <th>75%</th>\n",
       "      <td>2030.50000</td>\n",
       "      <td>24507.500000</td>\n",
       "      <td>8053.500000</td>\n",
       "      <td>55.380000</td>\n",
       "    </tr>\n",
       "    <tr>\n",
       "      <th>max</th>\n",
       "      <td>2044.00000</td>\n",
       "      <td>100001.000000</td>\n",
       "      <td>29546.000000</td>\n",
       "      <td>77.780000</td>\n",
       "    </tr>\n",
       "  </tbody>\n",
       "</table>\n",
       "</div>"
      ],
      "text/plain": [
       "         Year(BS)  Total Appeared  Total Passed  Pass Percentage\n",
       "count    55.00000       55.000000     55.000000        55.000000\n",
       "mean   2017.00000    18425.963636   5268.909091        43.234909\n",
       "std      16.02082    27875.566485   7224.952580        15.463206\n",
       "min    1990.00000       26.000000     15.000000        16.680000\n",
       "25%    2003.50000      204.500000     98.500000        32.530000\n",
       "50%    2017.00000     3571.000000   1108.000000        40.000000\n",
       "75%    2030.50000    24507.500000   8053.500000        55.380000\n",
       "max    2044.00000   100001.000000  29546.000000        77.780000"
      ]
     },
     "execution_count": 25,
     "metadata": {},
     "output_type": "execute_result"
    }
   ],
   "source": [
    "finalfea.describe()"
   ]
  },
  {
   "cell_type": "code",
   "execution_count": 26,
   "metadata": {},
   "outputs": [],
   "source": [
    "import matplotlib.pyplot as plt"
   ]
  },
  {
   "cell_type": "code",
   "execution_count": 27,
   "metadata": {},
   "outputs": [
    {
     "data": {
      "text/plain": [
       "pandas.core.series.Series"
      ]
     },
     "execution_count": 27,
     "metadata": {},
     "output_type": "execute_result"
    }
   ],
   "source": [
    "type(finalfea['Year(BS)'])"
   ]
  },
  {
   "cell_type": "code",
   "execution_count": 29,
   "metadata": {
    "scrolled": false
   },
   "outputs": [
    {
     "data": {
      "text/plain": [
       "<matplotlib.axes._subplots.AxesSubplot at 0x7f36d8b78f60>"
      ]
     },
     "execution_count": 29,
     "metadata": {},
     "output_type": "execute_result"
    },
    {
     "data": {
      "image/png": "[encoded data removed]",
      "text/plain": [
       "<Figure size 432x288 with 1 Axes>"
      ]
     },
     "metadata": {
      "needs_background": "light"
     },
     "output_type": "display_data"
    }
   ],
   "source": [
    "finalfea.plot.line(x= 'Year(BS)',y = 'Pass Percentage')"
   ]
  },
  {
   "cell_type": "code",
   "execution_count": 30,
   "metadata": {},
   "outputs": [
    {
     "data": {
      "text/plain": [
       "<matplotlib.axes._subplots.AxesSubplot at 0x7f36d8aee048>"
      ]
     },
     "execution_count": 30,
     "metadata": {},
     "output_type": "execute_result"
    },
    {
     "data": {
      "image/png": "[encoded data removed]",
      "text/plain": [
       "<Figure size 432x288 with 1 Axes>"
      ]
     },
     "metadata": {
      "needs_background": "light"
     },
     "output_type": "display_data"
    }
   ],
   "source": [
    "finalfea.plot.line(x= 'Year(BS)',y = 'Total Appeared')"
   ]
  },
  {
   "cell_type": "code",
   "execution_count": 44,
   "metadata": {},
   "outputs": [
    {
     "data": {
      "text/plain": [
       "<matplotlib.axes._subplots.AxesSubplot at 0x7f36d806f2b0>"
      ]
     },
     "execution_count": 44,
     "metadata": {},
     "output_type": "execute_result"
    },
    {
     "data": {
      "image/png": "[encoded data removed]",
      "text/plain": [
       "<Figure size 432x288 with 1 Axes>"
      ]
     },
     "metadata": {
      "needs_background": "light"
     },
     "output_type": "display_data"
    }
   ],
   "source": [
    "finalfea.plot.line(x= 'Year(BS)',y = 'Total Passed')"
   ]
  },
  {
   "cell_type": "code",
   "execution_count": 52,
   "metadata": {},
   "outputs": [
    {
     "data": {
      "text/plain": [
       "<matplotlib.axes._subplots.AxesSubplot at 0x7f36d3cd8128>"
      ]
     },
     "execution_count": 52,
     "metadata": {},
     "output_type": "execute_result"
    },
    {
     "data": {
      "image/png": "[encoded data removed]",
      "text/plain": [
       "<Figure size 432x288 with 1 Axes>"
      ]
     },
     "metadata": {
      "needs_background": "light"
     },
     "output_type": "display_data"
    }
   ],
   "source": [
    "finalfea.plot.line(x= 'Year(BS)',y = ['Total Appeared','Total Passed'])"
   ]
  },
  {
   "cell_type": "code",
   "execution_count": null,
   "metadata": {},
   "outputs": [],
   "source": []
  }
 ],
 "metadata": {
  "kernelspec": {
   "display_name": "Python 3",
   "language": "python",
   "name": "python3"
  },
  "language_info": {
   "codemirror_mode": {
    "name": "ipython",
    "version": 3
   },
   "file_extension": ".py",
   "mimetype": "text/x-python",
   "name": "python",
   "nbconvert_exporter": "python",
   "pygments_lexer": "ipython3",
   "version": "3.7.1"
  }
 },
 "nbformat": 4,
 "nbformat_minor": 2
}
